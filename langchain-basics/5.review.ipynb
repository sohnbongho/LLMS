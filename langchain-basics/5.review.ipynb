{
 "cells": [
  {
   "cell_type": "code",
   "execution_count": 88,
   "metadata": {},
   "outputs": [],
   "source": [
    "from langchain_ollama import ChatOllama\n",
    "\n",
    "llm = ChatOllama(\n",
    "    model=\"llama3.2:1b\",\n",
    "    temperature=0,\n",
    ")\n"
   ]
  },
  {
   "cell_type": "code",
   "execution_count": 89,
   "metadata": {},
   "outputs": [],
   "source": [
    "from langchain_core.output_parsers import StrOutputParser\n",
    "from langchain_core.prompts import PromptTemplate\n",
    "\n",
    "#음식 이름 찾기\n",
    "food_prompt = PromptTemplate(\n",
    "    template=\"\"\"what is one of the most popular food in {country}?    Please return the name of the food only\"\"\",\n",
    "    input_variables=['country'],\n",
    ")\n",
    "\n",
    "food_chain = food_prompt | llm | StrOutputParser()\n"
   ]
  },
  {
   "cell_type": "code",
   "execution_count": 90,
   "metadata": {},
   "outputs": [
    {
     "data": {
      "text/plain": [
       "'Bibimbap.'"
      ]
     },
     "execution_count": 90,
     "metadata": {},
     "output_type": "execute_result"
    }
   ],
   "source": [
    "food_chain.invoke({\"country\": \"South Korea\"})"
   ]
  },
  {
   "cell_type": "code",
   "execution_count": null,
   "metadata": {},
   "outputs": [],
   "source": [
    "from langchain_core.prompts import ChatPromptTemplate\n",
    "\n",
    "receipt_prompt = ChatPromptTemplate.from_messages([\n",
    "    ('system', 'provide the recipe of the food that the user wants. please return the recipe only'),\n",
    "    ('human', 'Can you give me the recipe for making {food}?'),\n",
    "])\n",
    "\n",
    "receipt_chain = receipt_prompt | llm | StrOutputParser()\n"
   ]
  },
  {
   "cell_type": "code",
   "execution_count": 92,
   "metadata": {},
   "outputs": [
    {
     "data": {
      "text/plain": [
       "\"Bibimbap, a popular Korean rice bowl dish! I'd be happy to provide you with a recipe. Here's one that serves 4:\\n\\n**Ingredients:**\\n\\n* 1 cup of white or brown rice\\n* 2 tablespoons of vegetable oil\\n* 1 small onion, thinly sliced\\n* 2 cloves of garlic, minced\\n* 1 cup of mixed vegetables (e.g., zucchini, carrots, bean sprouts)\\n* 1/2 cup of diced mushrooms\\n* 1/4 cup of chopped green onions for garnish\\n* 2 eggs, fried or poached\\n* 1 tablespoon of soy sauce\\n* 1 tablespoon of sesame oil\\n* Salt and pepper to taste\\n* Optional: kimchi, boiled egg, and pickled ginger for added flavor\\n\\n**Instructions:**\\n\\n1. **Prepare the ingredients:** Cut the onion, garlic, mixed vegetables, and mushrooms into thin slices and dice the mushrooms.\\n2. **Cook the rice:** Rinse the rice in a fine mesh strainer and drain well. In a medium saucepan, combine 2 cups of water and 1 tablespoon of salt. Bring to a boil, then reduce the heat to low, cover, and simmer for 15-20 minutes or until the water is absorbed and the rice is tender. Fluff with a fork.\\n3. **Fry the eggs:** Heat 1 tablespoon of vegetable oil in a non-stick pan over medium heat. Crack an egg into the pan and cook until the whites are set and the yolks are cooked to your desired doneness. Repeat with the second egg.\\n4. **Assemble the bibimbap:** Divide the cooked rice onto four plates. Arrange the mixed vegetables, mushrooms, and green onions on top of the rice.\\n5. **Add the protein:** Place a fried or poached egg on top of the vegetables.\\n6. **Drizzle with sauce:** Drizzle 1 tablespoon of soy sauce and 1 tablespoon of sesame oil over the dish.\\n7. **Garnish:** Sprinkle chopped green onions, kimchi (if using), boiled egg, and pickled ginger (if using) on top.\\n\\n**Tips:**\\n\\n* Use a variety of colorful vegetables to make the dish visually appealing.\\n* Adjust the amount of soy sauce and sesame oil to your taste.\\n* You can also add other ingredients like diced chicken, beef, or tofu to make the dish more substantial.\\n* Bibimbap is best served immediately, as the rice can become soggy if left out for too long.\\n\\nI hope you enjoy making and eating this delicious Korean rice bowl dish!\""
      ]
     },
     "execution_count": 92,
     "metadata": {},
     "output_type": "execute_result"
    }
   ],
   "source": [
    "receipt_chain.invoke({'food': 'bibimbap'})"
   ]
  }
 ],
 "metadata": {
  "kernelspec": {
   "display_name": "Python (langchain-basics)",
   "language": "python",
   "name": "langchain-basics"
  },
  "language_info": {
   "codemirror_mode": {
    "name": "ipython",
    "version": 3
   },
   "file_extension": ".py",
   "mimetype": "text/x-python",
   "name": "python",
   "nbconvert_exporter": "python",
   "pygments_lexer": "ipython3",
   "version": "3.9.13"
  }
 },
 "nbformat": 4,
 "nbformat_minor": 2
}
