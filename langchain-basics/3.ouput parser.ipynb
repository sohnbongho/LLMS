{
 "cells": [
  {
   "cell_type": "code",
   "execution_count": 76,
   "metadata": {},
   "outputs": [],
   "source": [
    "from langchain_ollama import ChatOllama\n",
    "\n",
    "llm = ChatOllama(model=\"llama3.2:1b\")\n"
   ]
  },
  {
   "cell_type": "code",
   "execution_count": 77,
   "metadata": {},
   "outputs": [
    {
     "name": "stdout",
     "output_type": "stream",
     "text": [
      "text='What is the capital of France? Return the name of the city only.'\n",
      "content='Paris' additional_kwargs={} response_metadata={'model': 'llama3.2:1b', 'created_at': '2025-03-18T04:41:33.0065693Z', 'done': True, 'done_reason': 'stop', 'total_duration': 97063100, 'load_duration': 15027300, 'prompt_eval_count': 40, 'prompt_eval_duration': 1000000, 'eval_count': 2, 'eval_duration': 79000000, 'message': Message(role='assistant', content='', images=None, tool_calls=None)} id='run-e3e60316-a8be-4156-83d1-beae2835d2bb-0' usage_metadata={'input_tokens': 40, 'output_tokens': 2, 'total_tokens': 42}\n"
     ]
    }
   ],
   "source": [
    "from langchain_core.prompts import PromptTemplate\n",
    "from langchain_core.output_parsers import StrOutputParser\n",
    "\n",
    "prompt_template = PromptTemplate(\n",
    "    template=\"What is the capital of {country}? Return the name of the city only.\",\n",
    "    input_variables=[\"country\"],\n",
    ")\n",
    "prompt = prompt_template.invoke({\"country\":\"France\"})\n",
    "print(prompt)\n",
    "\n",
    "ai_message = llm.invoke(prompt_template.invoke({\"country\":\"France\"}))\n",
    "print(ai_message)\n",
    "\n",
    "output_parser = StrOutputParser()\n",
    "answer = output_parser.invoke(llm.invoke(prompt_template.invoke({\"country\":\"France\"})))\n",
    "\n",
    "\n"
   ]
  },
  {
   "cell_type": "code",
   "execution_count": 78,
   "metadata": {},
   "outputs": [
    {
     "data": {
      "text/plain": [
       "AIMessage(content='Paris', additional_kwargs={}, response_metadata={'model': 'llama3.2:1b', 'created_at': '2025-03-18T04:41:33.0065693Z', 'done': True, 'done_reason': 'stop', 'total_duration': 97063100, 'load_duration': 15027300, 'prompt_eval_count': 40, 'prompt_eval_duration': 1000000, 'eval_count': 2, 'eval_duration': 79000000, 'message': Message(role='assistant', content='', images=None, tool_calls=None)}, id='run-e3e60316-a8be-4156-83d1-beae2835d2bb-0', usage_metadata={'input_tokens': 40, 'output_tokens': 2, 'total_tokens': 42})"
      ]
     },
     "execution_count": 78,
     "metadata": {},
     "output_type": "execute_result"
    }
   ],
   "source": [
    "ai_message"
   ]
  },
  {
   "cell_type": "code",
   "execution_count": 79,
   "metadata": {},
   "outputs": [
    {
     "data": {
      "text/plain": [
       "'Paris.'"
      ]
     },
     "execution_count": 79,
     "metadata": {},
     "output_type": "execute_result"
    }
   ],
   "source": [
    "answer"
   ]
  },
  {
   "cell_type": "code",
   "execution_count": 80,
   "metadata": {},
   "outputs": [],
   "source": [
    "from pydantic import BaseModel, Field\n",
    "\n",
    "class CountryDetail(BaseModel):\n",
    "    capital: str = Field(description=\"The capital of the country\")\n",
    "    population: int = Field(description=\"The population of the country\")\n",
    "    language: str = Field(description=\"The language of the country\")\n",
    "    currency: str = Field(description=\"The currency of the country\")\n",
    "\n",
    "structed_llm = llm.with_structured_output(CountryDetail)"
   ]
  },
  {
   "cell_type": "code",
   "execution_count": 81,
   "metadata": {},
   "outputs": [],
   "source": [
    "from langchain_core.output_parsers import JsonOutputParser\n",
    "\n",
    "contry_detail_prompt = PromptTemplate(\n",
    "    template=\"\"\"Give following information about {country}:\n",
    "    - Capital\n",
    "    - Population\n",
    "    - Language\n",
    "    - Currency\n",
    "\n",
    "    return it in JSON format. and return the JSON dictionry only\n",
    "\"\"\",\n",
    "input_variables=[\"country\"],\n",
    ")\n",
    "\n",
    "contry_detail_prompt.invoke({\"country\":\"France\"})\n",
    "\n",
    "json_ai_message = structed_llm.invoke(contry_detail_prompt.invoke({\"country\":\"France\"}))"
   ]
  },
  {
   "cell_type": "code",
   "execution_count": 82,
   "metadata": {},
   "outputs": [
    {
     "data": {
      "text/plain": [
       "CountryDetail(capital='Paris', population=67200000, language='French', currency='Euro')"
      ]
     },
     "execution_count": 82,
     "metadata": {},
     "output_type": "execute_result"
    }
   ],
   "source": [
    "(json_ai_message)"
   ]
  },
  {
   "cell_type": "code",
   "execution_count": 83,
   "metadata": {},
   "outputs": [
    {
     "data": {
      "text/plain": [
       "'Paris'"
      ]
     },
     "execution_count": 83,
     "metadata": {},
     "output_type": "execute_result"
    }
   ],
   "source": [
    "json_ai_message.model_dump()['capital']"
   ]
  }
 ],
 "metadata": {
  "kernelspec": {
   "display_name": "Python (langchain-basics)",
   "language": "python",
   "name": "langchain-basics"
  },
  "language_info": {
   "codemirror_mode": {
    "name": "ipython",
    "version": 3
   },
   "file_extension": ".py",
   "mimetype": "text/x-python",
   "name": "python",
   "nbconvert_exporter": "python",
   "pygments_lexer": "ipython3",
   "version": "3.9.13"
  }
 },
 "nbformat": 4,
 "nbformat_minor": 2
}
