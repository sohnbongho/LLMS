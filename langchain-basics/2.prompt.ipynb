{
 "cells": [
  {
   "cell_type": "code",
   "execution_count": 1,
   "metadata": {},
   "outputs": [
    {
     "data": {
      "text/plain": [
       "AIMessage(content='The capital of France is Paris.', additional_kwargs={}, response_metadata={'model': 'llama3.2:1b', 'created_at': '2025-03-18T02:03:32.6415042Z', 'done': True, 'done_reason': 'stop', 'total_duration': 1447821900, 'load_duration': 1297759700, 'prompt_eval_count': 32, 'prompt_eval_duration': 88000000, 'eval_count': 8, 'eval_duration': 61000000, 'message': Message(role='assistant', content='', images=None, tool_calls=None)}, id='run-c37b8671-1ee9-4693-bad4-c83a27dd8fec-0', usage_metadata={'input_tokens': 32, 'output_tokens': 8, 'total_tokens': 40})"
      ]
     },
     "execution_count": 1,
     "metadata": {},
     "output_type": "execute_result"
    }
   ],
   "source": [
    "from langchain_ollama import ChatOllama\n",
    "\n",
    "llm = ChatOllama(model=\"llama3.2:1b\")\n",
    "\n",
    "llm.invoke(\"What is the capital of France?\")"
   ]
  },
  {
   "cell_type": "code",
   "execution_count": 4,
   "metadata": {},
   "outputs": [
    {
     "name": "stdout",
     "output_type": "stream",
     "text": [
      "text='What is the capital of France?'\n"
     ]
    },
    {
     "data": {
      "text/plain": [
       "AIMessage(content='The capital of France is Paris.', additional_kwargs={}, response_metadata={'model': 'llama3.2:1b', 'created_at': '2025-03-18T02:11:15.3276463Z', 'done': True, 'done_reason': 'stop', 'total_duration': 1413815800, 'load_duration': 1269531400, 'prompt_eval_count': 32, 'prompt_eval_duration': 85000000, 'eval_count': 8, 'eval_duration': 58000000, 'message': Message(role='assistant', content='', images=None, tool_calls=None)}, id='run-fb602691-76f8-46e2-9be4-daa092ac7b6d-0', usage_metadata={'input_tokens': 32, 'output_tokens': 8, 'total_tokens': 40})"
      ]
     },
     "execution_count": 4,
     "metadata": {},
     "output_type": "execute_result"
    }
   ],
   "source": [
    "from langchain_core.prompts import PromptTemplate\n",
    "\n",
    "prompt_template = PromptTemplate(\n",
    "    template=\"What is the capital of {country}?\",\n",
    "    input_variables=[\"country\"],\n",
    ")\n",
    "\n",
    "prompt = prompt_template.invoke({\"country\": \"France\"})\n",
    "\n",
    "print(prompt)\n",
    "\n",
    "llm.invoke(prompt)"
   ]
  },
  {
   "cell_type": "code",
   "execution_count": null,
   "metadata": {},
   "outputs": [
    {
     "data": {
      "text/plain": [
       "AIMessage(content='The capital of Italy is Rome.', additional_kwargs={}, response_metadata={'model': 'llama3.2:1b', 'created_at': '2025-03-18T02:25:57.5732337Z', 'done': True, 'done_reason': 'stop', 'total_duration': 159619800, 'load_duration': 25049100, 'prompt_eval_count': 86, 'prompt_eval_duration': 2000000, 'eval_count': 8, 'eval_duration': 131000000, 'message': Message(role='assistant', content='', images=None, tool_calls=None)}, id='run-a1b88ade-0961-46d5-8ff6-9b38131e4887-0', usage_metadata={'input_tokens': 86, 'output_tokens': 8, 'total_tokens': 94})"
      ]
     },
     "execution_count": 13,
     "metadata": {},
     "output_type": "execute_result"
    }
   ],
   "source": [
    "from langchain_core.messages import HumanMessage, SystemMessage, AIMessage\n",
    "\n",
    "message_list = [\n",
    "    SystemMessage(content=\"You are a helpful assistant!\"),\n",
    "    HumanMessage(content=\"What is the capital of France?\"),\n",
    "    AIMessage(content=\"The capital of France is Paris.\"),\n",
    "    HumanMessage(content=\"What is the capital of Germany?\"),\n",
    "    AIMessage(content=\"The capital of Germany is Berlin.\"),    \n",
    "    HumanMessage(content=\"What is the capital of Italy?\"),    \n",
    "]\n",
    "\n",
    "llm.invoke(message_list)"
   ]
  }
 ],
 "metadata": {
  "kernelspec": {
   "display_name": "Python (langchain-basics)",
   "language": "python",
   "name": "langchain-basics"
  },
  "language_info": {
   "codemirror_mode": {
    "name": "ipython",
    "version": 3
   },
   "file_extension": ".py",
   "mimetype": "text/x-python",
   "name": "python",
   "nbconvert_exporter": "python",
   "pygments_lexer": "ipython3",
   "version": "3.9.13"
  }
 },
 "nbformat": 4,
 "nbformat_minor": 2
}
